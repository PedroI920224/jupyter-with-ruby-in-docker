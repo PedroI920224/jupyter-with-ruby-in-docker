{
 "cells": [
  {
   "cell_type": "markdown",
   "id": "59ff6240-1b04-4a67-8a39-580d49268ac7",
   "metadata": {},
   "source": [
    "HolaMundo"
   ]
  },
  {
   "cell_type": "code",
   "execution_count": null,
   "id": "330d313d-0761-4369-a94d-43c362cd5ec9",
   "metadata": {},
   "outputs": [],
   "source": []
  }
 ],
 "metadata": {
  "kernelspec": {
   "display_name": "Ruby 3.1.2",
   "language": "ruby",
   "name": "ruby"
  },
  "language_info": {
   "file_extension": ".rb",
   "mimetype": "application/x-ruby",
   "name": "ruby",
   "version": "3.1.2"
  }
 },
 "nbformat": 4,
 "nbformat_minor": 5
}
